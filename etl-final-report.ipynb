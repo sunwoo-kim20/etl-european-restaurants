{
 "cells": [
  {
   "cell_type": "markdown",
   "metadata": {},
   "source": [
    "## ETL-PROJECT\n",
    "\n",
    "Team Members: Sunwoo Kim, Elizabeth Odundo\n",
    "\n",
    "#### Data Extraction\n",
    "\n",
    "Original Michelin restaurant data was extracted from [Kaggle](https://www.kaggle.com/jackywang529/michelin-restaurants).\n",
    "The data includes one, two, three Michelin star restaurants from the following regions:\n",
    "Austria, California, Chicago, Croatia, Czech Republic, Denmark, Finland, Greece, Hong Kong, Hungary, Iceland, Macau, Norway, New York City, Poland, Ireland, Rio de Janeiro, Sao Paulo, South Korea, Singapore, Sweden, Taipei, Thailand, Washington DC, and United Kingdom.\n",
    "\n",
    "The following regions are not included in the dataset:\n",
    "Belgium, France, Germany, Italy, Japan, Luxembourg, Netherlands, Portugal, China, Spain, and Switzerland.\n",
    "\n",
    "We loaded the 3 CSV files into Jupyter notebook and generated the data frames for each of them. We then used the latitudes and longitude provided in the original CSVs to make API calls to Google Places and locate the Hotel/Lodgings that were closest to the restaurants. This would help tourists and visitors know where to stay during their trip. The data from the API calls were in JSON format, so we had to parse through the JSON response to access the hotel name. We added this information to the dataset.\n",
    "Second, we used the URL paths provided in the original datasets to visit each restaurant’s webpage and scrape the information about the specialty dishes that they served. We used splinter and BeautifulSoup to read the HTML response from the data scrape. This information was also added to the datasets.\n",
    "\n",
    "\n",
    "#### Data Transformation\n",
    "\n",
    "First, we merged the three data frames (the original/raw, the hotel, and the specialties) so that each star ranking has one data frame with all relevant information that we got from Kaggle, from Google API, and from web scraping. We decided to keep our restaurants in separate data frames based on the Michelin stars ratings.\n",
    "\n",
    "Next, we decided to drop some columns that we did not need and kept the following: name, city, region, cuisine, URL, hotel name, and specialties. Even though our specialties column contains some N/A values (since some restaurant websites did not list their special dishes), we decided to keep the N/A rows because there is still useful information about each restaurant without the special meals.\n",
    "\n",
    "Finally, when exporting and reloading data frames, our specialties column was converted from a list to a string. So, we had to convert the string back to a list before uploading our data into MongoDB.\n",
    "\n",
    "\n",
    "#### Data Loading\n",
    "\n",
    "We chose to load our data into a non-relational database over a relational database for two main reasons. \n",
    "- First, our data did not require any relationships between tables. \n",
    "- Second, since we wanted our specialties column to hold list type elements (so users of our database could easily access all special meals), we used MongoDB since SQL columns cannot hold list type elements.\n",
    "\n",
    "Our final database in MongoDB is structured as follows:\n",
    "- Database name: michelinDB\n",
    "- Collections: \n",
    "    * one_star\n",
    "    * two_star\n",
    "    * three_star\n",
    "- Fields (shared by all three collections)\n",
    "    * name\n",
    "    * city\n",
    "    * region\n",
    "    * cuisine\n",
    "    * url\n",
    "    * Hotel_Name\n",
    "    * specialties"
   ]
  },
  {
   "cell_type": "code",
   "execution_count": null,
   "metadata": {},
   "outputs": [],
   "source": []
  }
 ],
 "metadata": {
  "kernelspec": {
   "display_name": "Python 3",
   "language": "python",
   "name": "python3"
  },
  "language_info": {
   "codemirror_mode": {
    "name": "ipython",
    "version": 3
   },
   "file_extension": ".py",
   "mimetype": "text/x-python",
   "name": "python",
   "nbconvert_exporter": "python",
   "pygments_lexer": "ipython3",
   "version": "3.8.5"
  }
 },
 "nbformat": 4,
 "nbformat_minor": 4
}
